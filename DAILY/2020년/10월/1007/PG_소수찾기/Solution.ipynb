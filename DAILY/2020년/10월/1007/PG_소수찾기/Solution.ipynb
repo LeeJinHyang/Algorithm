{
 "cells": [
  {
   "cell_type": "code",
   "execution_count": null,
   "metadata": {},
   "outputs": [],
   "source": [
    "import math\n",
    "def solution(n):\n",
    "    answer = 0\n",
    "    prime = [True] * (n+1)\n",
    "    prime[1] = False\n",
    "    isPrime(prime,n)\n",
    "    answer = prime[1:].count(True)\n",
    "    return answer\n",
    "\n",
    "\n",
    "\n",
    "def isPrime(prime,n):\n",
    "    for i in range(2, int(math.sqrt(n))+1):\n",
    "        print(i)\n",
    "        if(prime[i] == True) : \n",
    "            for j in range(i * 2, n+1, i ):\n",
    "                prime[j] = False\n",
    "            \n",
    "            "
   ]
  }
 ],
 "metadata": {
  "kernelspec": {
   "display_name": "Python 3",
   "language": "python",
   "name": "python3"
  },
  "language_info": {
   "codemirror_mode": {
    "name": "ipython",
    "version": 3
   },
   "file_extension": ".py",
   "mimetype": "text/x-python",
   "name": "python",
   "nbconvert_exporter": "python",
   "pygments_lexer": "ipython3",
   "version": "3.7.4"
  }
 },
 "nbformat": 4,
 "nbformat_minor": 2
}

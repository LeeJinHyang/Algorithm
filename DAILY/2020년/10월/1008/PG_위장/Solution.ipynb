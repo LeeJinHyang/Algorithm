{
 "cells": [
  {
   "cell_type": "code",
   "execution_count": null,
   "metadata": {},
   "outputs": [],
   "source": [
    "def solution(clothes):\n",
    "    answer = 1\n",
    "    indexList = []\n",
    "    clothSet = {} \n",
    "    for cloth in clothes:\n",
    "        #아이템 테마 없는 경우 추가해 준다\n",
    "        if cloth[1] not in clothSet.keys():\n",
    "            clothSet.setdefault(cloth[1],[])\n",
    "        clothSet[cloth[1]].append(cloth[0])\n",
    "    for sets in clothSet.keys():\n",
    "        answer = answer * (len(clothSet[sets])+1)\n",
    "   \n",
    "    answer -= 1\n",
    "    return answer"
   ]
  }
 ],
 "metadata": {
  "kernelspec": {
   "display_name": "Python 3",
   "language": "python",
   "name": "python3"
  },
  "language_info": {
   "codemirror_mode": {
    "name": "ipython",
    "version": 3
   },
   "file_extension": ".py",
   "mimetype": "text/x-python",
   "name": "python",
   "nbconvert_exporter": "python",
   "pygments_lexer": "ipython3",
   "version": "3.8.6rc1"
  }
 },
 "nbformat": 4,
 "nbformat_minor": 4
}

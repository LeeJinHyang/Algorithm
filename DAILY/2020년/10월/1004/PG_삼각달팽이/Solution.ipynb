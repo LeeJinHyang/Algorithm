{
 "cells": [
  {
   "cell_type": "code",
   "execution_count": null,
   "metadata": {},
   "outputs": [],
   "source": [
    "def solution(n):\n",
    "    answer = []\n",
    "    minR = 0\n",
    "    minC = 0\n",
    "    maxR = n-1\n",
    "    maxC = n-1\n",
    "    num = 1\n",
    "    map = []\n",
    "\n",
    "    for i in range(0,n):\n",
    "        list = []\n",
    "        for j in range(0,n):\n",
    "            list.append(-1)\n",
    "        map.append(list)\n",
    "    while minR <= maxR:\n",
    "        c = minC\n",
    "        for r in range(minR, maxR+1):\n",
    "            map[r][c] = num\n",
    "            num += 1\n",
    "        r = maxR\n",
    "        for c in range(minC+1,maxC+1):\n",
    "            map[r][c] = num\n",
    "            num += 1\n",
    "        minR += 1\n",
    "        minC += 1\n",
    "        for i in range(1, maxR - minR+1):\n",
    "            map[maxR - i][maxC - i] = num\n",
    "            num += 1\n",
    "        maxR -= 1\n",
    "        maxC -= 2\n",
    "        minR += 1\n",
    "        \n",
    "    print()    \n",
    "    for i in range(0, n):\n",
    "        list = map[i]\n",
    "        for j in range(0,i+1):\n",
    "            answer.append(map[i][j])\n",
    "    return answer"
   ]
  }
 ],
 "metadata": {
  "kernelspec": {
   "display_name": "Python 3",
   "language": "python",
   "name": "python3"
  },
  "language_info": {
   "codemirror_mode": {
    "name": "ipython",
    "version": 3
   },
   "file_extension": ".py",
   "mimetype": "text/x-python",
   "name": "python",
   "nbconvert_exporter": "python",
   "pygments_lexer": "ipython3",
   "version": "3.7.4"
  }
 },
 "nbformat": 4,
 "nbformat_minor": 2
}

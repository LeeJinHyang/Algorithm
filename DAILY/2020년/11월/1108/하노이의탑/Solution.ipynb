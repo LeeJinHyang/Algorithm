{
 "cells": [
  {
   "cell_type": "code",
   "execution_count": null,
   "metadata": {},
   "outputs": [],
   "source": [
    "def solution(n):\n",
    "    answer = []\n",
    "    hanoi(n,1,3,answer)\n",
    "    return answer\n",
    "\n",
    "\n",
    "#하노이의 탑은 재귀를 활용해서 푼다\n",
    "def hanoi(n, start, end,answer):\n",
    "    if n == 1:\n",
    "        log = []\n",
    "        log.append(start)\n",
    "        log.append(end)\n",
    "        answer.append(log)\n",
    "    \n",
    "        return 1\n",
    "    else:\n",
    "        list = [1,2,3]\n",
    "        list.remove(start)\n",
    "        list.remove(end)\n",
    "        hanoi(n-1,start,list[0],answer)\n",
    "        print(str(start)+\"  \"+str(end))\n",
    "        log = []\n",
    "        log.append(start)\n",
    "        log.append(end)\n",
    "        answer.append(log)\n",
    "    \n",
    "        hanoi(n-1,list[0],end,answer)\n",
    "        \n",
    "    \n",
    "    \n",
    "    \n",
    "    \n"
   ]
  }
 ],
 "metadata": {
  "kernelspec": {
   "display_name": "Python 3",
   "language": "python",
   "name": "python3"
  },
  "language_info": {
   "codemirror_mode": {
    "name": "ipython",
    "version": 3
   },
   "file_extension": ".py",
   "mimetype": "text/x-python",
   "name": "python",
   "nbconvert_exporter": "python",
   "pygments_lexer": "ipython3",
   "version": "3.8.6rc1"
  }
 },
 "nbformat": 4,
 "nbformat_minor": 4
}

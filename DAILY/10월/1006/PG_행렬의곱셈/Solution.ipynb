{
 "cells": [
  {
   "cell_type": "code",
   "execution_count": null,
   "metadata": {},
   "outputs": [],
   "source": [
    "def solution(arr1, arr2):\n",
    "    answer = []\n",
    "    r = len(arr1)\n",
    "    c = len(arr2[0])\n",
    "    \n",
    "    for i in range(0,r):\n",
    "        list = []\n",
    "        for j in range(0,c):\n",
    "            sum = 0\n",
    "            for t in range(0,len(arr1[0])):\n",
    "                sum +=arr1[i][t]*arr2[t][j]\n",
    "            list.append(sum)\n",
    "        answer.append(list)\n",
    "    print(answer)\n",
    "    return answer"
   ]
  }
 ],
 "metadata": {
  "kernelspec": {
   "display_name": "Python 3",
   "language": "python",
   "name": "python3"
  },
  "language_info": {
   "codemirror_mode": {
    "name": "ipython",
    "version": 3
   },
   "file_extension": ".py",
   "mimetype": "text/x-python",
   "name": "python",
   "nbconvert_exporter": "python",
   "pygments_lexer": "ipython3",
   "version": "3.7.4"
  }
 },
 "nbformat": 4,
 "nbformat_minor": 2
}

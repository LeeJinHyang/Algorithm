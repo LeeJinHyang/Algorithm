{
 "cells": [
  {
   "cell_type": "code",
   "execution_count": null,
   "metadata": {},
   "outputs": [],
   "source": [
    "import collections\n",
    "def solution(n, lost, reserve):\n",
    "    answer = 0\n",
    "    student = []\n",
    "    for i in range(0, n+1):\n",
    "        student.append(1)\n",
    "    \n",
    "    for stu in lost:\n",
    "        student[stu] -= 1\n",
    "        \n",
    "    for stu in reserve:\n",
    "        student[stu] += 1\n",
    "        \n",
    "    for idx in range(1, n+1):\n",
    "        if student[idx] == 0: \n",
    "            if idx-1 >= 1 and student[idx -1] > 1 :\n",
    "                student[idx] += 1\n",
    "                student[idx-1] -= 1\n",
    "            elif idx + 1 <= n and student[idx + 1] > 1:\n",
    "                \n",
    "                student[idx] += 1\n",
    "                student[idx+1] -= 1\n",
    "    for i in range(1, n+1):\n",
    "        if student[i] >= 1:\n",
    "            answer += 1\n",
    "    return answer"
   ]
  }
 ],
 "metadata": {
  "kernelspec": {
   "display_name": "Python 3",
   "language": "python",
   "name": "python3"
  },
  "language_info": {
   "codemirror_mode": {
    "name": "ipython",
    "version": 3
   },
   "file_extension": ".py",
   "mimetype": "text/x-python",
   "name": "python",
   "nbconvert_exporter": "python",
   "pygments_lexer": "ipython3",
   "version": "3.7.4"
  }
 },
 "nbformat": 4,
 "nbformat_minor": 2
}

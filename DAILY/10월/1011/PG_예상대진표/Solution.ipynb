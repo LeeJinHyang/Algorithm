{
 "cells": [
  {
   "cell_type": "code",
   "execution_count": null,
   "metadata": {},
   "outputs": [],
   "source": [
    "import math\n",
    "def solution(n,a,b):\n",
    "    answer = 0\n",
    "    full = int(math.log(n,2))#가장 최대의 경우의 수\n",
    "    min = 1\n",
    "    max = n\n",
    "    mid = 0\n",
    "    for i in range(0,full):\n",
    "        mid = (min +max) // 2\n",
    "        if min<= a <= mid and min<= b <= mid:           \n",
    "            max = mid\n",
    "        elif mid+1<= a <= max and mid + 1<= b <= max:\n",
    "            min = mid + 1\n",
    "        else : #마지막에 만나는 최대의 경우의 수를 넣어야 한다\n",
    "            return full - i\n",
    "            \n",
    "    "
   ]
  }
 ],
 "metadata": {
  "kernelspec": {
   "display_name": "Python 3",
   "language": "python",
   "name": "python3"
  },
  "language_info": {
   "codemirror_mode": {
    "name": "ipython",
    "version": 3
   },
   "file_extension": ".py",
   "mimetype": "text/x-python",
   "name": "python",
   "nbconvert_exporter": "python",
   "pygments_lexer": "ipython3",
   "version": "3.8.6rc1"
  }
 },
 "nbformat": 4,
 "nbformat_minor": 4
}

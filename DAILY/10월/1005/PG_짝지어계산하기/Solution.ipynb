{
 "cells": [
  {
   "cell_type": "code",
   "execution_count": null,
   "metadata": {},
   "outputs": [],
   "source": [
    "def solution(s):\n",
    "    answer = 0\n",
    "\n",
    "    # [실행] 버튼을 누르면 출력 값을 볼 수 있습니다.\n",
    "   \n",
    "    st = []\n",
    "    for idx in range(0,len(s)):\n",
    "        if len(st) == 0:\n",
    "            st.append(s[idx])\n",
    "            continue;\n",
    "        if st[-1] == s[idx] :\n",
    "            st.pop()\n",
    "        else :\n",
    "            st.append(s[idx])\n",
    "            \n",
    "    if len(st) == 0: answer = 1\n",
    "    else : answer = 0\n",
    "    return answer"
   ]
  }
 ],
 "metadata": {
  "kernelspec": {
   "display_name": "Python 3",
   "language": "python",
   "name": "python3"
  },
  "language_info": {
   "codemirror_mode": {
    "name": "ipython",
    "version": 3
   },
   "file_extension": ".py",
   "mimetype": "text/x-python",
   "name": "python",
   "nbconvert_exporter": "python",
   "pygments_lexer": "ipython3",
   "version": "3.7.4"
  }
 },
 "nbformat": 4,
 "nbformat_minor": 2
}

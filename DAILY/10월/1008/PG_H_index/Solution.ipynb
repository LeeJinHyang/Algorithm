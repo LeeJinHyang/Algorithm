{
 "cells": [
  {
   "cell_type": "code",
   "execution_count": null,
   "metadata": {},
   "outputs": [],
   "source": [
    "def solution(citations):\n",
    "    answer = 0\n",
    "    isUp = [0] * (max(citations)+1)\n",
    "    isDown = [0] * (max(citations)+1)\n",
    "    for num in citations:\n",
    "        for i in range(1, num+1) :\n",
    "            isUp[i] += 1\n",
    "        for i in range(num, max(citations)+1) :\n",
    "            isDown[i] += 1\n",
    "    for i in range(1, max(citations)+1) : \n",
    "        if(isDown[i] <= i and i <= isUp[i]):\n",
    "            answer = i\n",
    "    return answer"
   ]
  }
 ],
 "metadata": {
  "kernelspec": {
   "display_name": "Python 3",
   "language": "python",
   "name": "python3"
  },
  "language_info": {
   "codemirror_mode": {
    "name": "ipython",
    "version": 3
   },
   "file_extension": ".py",
   "mimetype": "text/x-python",
   "name": "python",
   "nbconvert_exporter": "python",
   "pygments_lexer": "ipython3",
   "version": "3.8.6rc1"
  }
 },
 "nbformat": 4,
 "nbformat_minor": 4
}

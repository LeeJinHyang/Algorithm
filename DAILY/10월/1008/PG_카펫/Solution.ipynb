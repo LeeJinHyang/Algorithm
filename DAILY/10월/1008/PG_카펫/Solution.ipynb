{
 "cells": [
  {
   "cell_type": "code",
   "execution_count": null,
   "metadata": {},
   "outputs": [],
   "source": [
    "def solution(brown, yellow):\n",
    "    answer = []\n",
    "    #가로 세로\n",
    "    # 가로 * 세로 = 갈색 + 노란색\n",
    "    # (가로 -1) *(세로-1) = 노란색\n",
    "    # 2 * 가로 + 2 * (세로 -2) = 갈색\n",
    "    \n",
    "    multi = brown + yellow\n",
    "    for i in range(1, multi//2+1):\n",
    "        #가로가 I일 때\n",
    "        if multi % i == 0:\n",
    "            j = multi // i\n",
    "            if (i - 2) * (j -2) == yellow:\n",
    "                \n",
    "                answer.append(j)\n",
    "                answer.append(i)\n",
    "                break\n",
    "    return answer"
   ]
  }
 ],
 "metadata": {
  "kernelspec": {
   "display_name": "Python 3",
   "language": "python",
   "name": "python3"
  },
  "language_info": {
   "codemirror_mode": {
    "name": "ipython",
    "version": 3
   },
   "file_extension": ".py",
   "mimetype": "text/x-python",
   "name": "python",
   "nbconvert_exporter": "python",
   "pygments_lexer": "ipython3",
   "version": "3.8.6rc1"
  }
 },
 "nbformat": 4,
 "nbformat_minor": 4
}

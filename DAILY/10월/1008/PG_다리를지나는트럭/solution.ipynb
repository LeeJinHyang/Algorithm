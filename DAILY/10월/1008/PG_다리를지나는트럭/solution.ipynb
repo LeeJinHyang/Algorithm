{
 "cells": [
  {
   "cell_type": "code",
   "execution_count": null,
   "metadata": {},
   "outputs": [],
   "source": [
    "def solution(bridge_length, weight, truck_weights):\n",
    "    answer = 0\n",
    "    bridgeList = []\n",
    "    waitList = truck_weights\n",
    "    \n",
    "    #bridgeList에는 리스트에 추가 된 시간, 몇번째 트럭인지 정보가 담겨 있다(무게를 빼기 위한 것)\n",
    "    time = 0\n",
    "    bridgeWeight = 0\n",
    "    while len(waitList)!=0 or len(bridgeList) != 0:\n",
    "        time += 1\n",
    "        #빼내는 과정\n",
    "        while len(bridgeList) != 0 :\n",
    "            next = bridgeList[0]\n",
    "            if (time - next[0]) >= bridge_length :\n",
    "                bridgeWeight -= next[1]\n",
    "                del bridgeList[0]\n",
    "                break\n",
    "            else : \n",
    "                break\n",
    "        #추가하는 과정\n",
    "        while len(waitList) != 0:\n",
    "            if(waitList[0] + bridgeWeight <= weight):\n",
    "                bridgeList.append([time,waitList[0] ])\n",
    "                bridgeWeight += waitList[0]\n",
    "                del waitList[0]\n",
    "                break\n",
    "            else:\n",
    "                break\n",
    "    print(time)   \n",
    "    answer = time\n",
    "    return answer"
   ]
  }
 ],
 "metadata": {
  "kernelspec": {
   "display_name": "Python 3",
   "language": "python",
   "name": "python3"
  },
  "language_info": {
   "codemirror_mode": {
    "name": "ipython",
    "version": 3
   },
   "file_extension": ".py",
   "mimetype": "text/x-python",
   "name": "python",
   "nbconvert_exporter": "python",
   "pygments_lexer": "ipython3",
   "version": "3.8.6rc1"
  }
 },
 "nbformat": 4,
 "nbformat_minor": 4
}

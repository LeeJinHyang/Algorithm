{
 "cells": [
  {
   "cell_type": "code",
   "execution_count": null,
   "metadata": {},
   "outputs": [],
   "source": [
    "def solution(numbers, target):\n",
    "    answer = 0\n",
    "    #숫자를 진행해 가면서 더 하는 경우\n",
    "    #빼는경우를 반복해서 값을 찾는다\n",
    "    \n",
    "    def dfs(idx, num):\n",
    "        if idx == len(numbers) :\n",
    "            if num == target:\n",
    "                nonlocal answer\n",
    "                answer += 1\n",
    "            \n",
    "        else:\n",
    "            dfs(idx+1, num + numbers[idx])\n",
    "            dfs(idx+1, num - numbers[idx])\n",
    "        \n",
    "    dfs(0,0)\n",
    "    \n",
    "    \n",
    "    return answer"
   ]
  }
 ],
 "metadata": {
  "kernelspec": {
   "display_name": "Python 3",
   "language": "python",
   "name": "python3"
  },
  "language_info": {
   "codemirror_mode": {
    "name": "ipython",
    "version": 3
   },
   "file_extension": ".py",
   "mimetype": "text/x-python",
   "name": "python",
   "nbconvert_exporter": "python",
   "pygments_lexer": "ipython3",
   "version": "3.8.6rc1"
  }
 },
 "nbformat": 4,
 "nbformat_minor": 4
}

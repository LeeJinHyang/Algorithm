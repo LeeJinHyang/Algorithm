{
 "cells": [
  {
   "cell_type": "code",
   "execution_count": null,
   "metadata": {},
   "outputs": [],
   "source": [
    "def solution(people, limit):\n",
    "    answer = 0\n",
    "    #한번에 최대 2명만 탑승이 가능하다\n",
    "    #무게의 제한도 있다\n",
    "    #list를 정렬해서 \n",
    "    #제일 무거운 사람과 가벼운 사람이 함께 탈 수 있으면 태우고,\n",
    "    people.sort()\n",
    "    print(people)\n",
    "    i = 0\n",
    "    j = len(people)-1\n",
    "    while i <= j:\n",
    "        answer += 1\n",
    "        if people[i] + people[j] <= limit:\n",
    "            i += 1\n",
    "        \n",
    "        j-= 1\n",
    "            \n",
    "    return answer"
   ]
  }
 ],
 "metadata": {
  "kernelspec": {
   "display_name": "Python 3",
   "language": "python",
   "name": "python3"
  },
  "language_info": {
   "codemirror_mode": {
    "name": "ipython",
    "version": 3
   },
   "file_extension": ".py",
   "mimetype": "text/x-python",
   "name": "python",
   "nbconvert_exporter": "python",
   "pygments_lexer": "ipython3",
   "version": "3.8.6rc1"
  }
 },
 "nbformat": 4,
 "nbformat_minor": 4
}

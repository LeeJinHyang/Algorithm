{
 "cells": [
  {
   "cell_type": "code",
   "execution_count": null,
   "metadata": {},
   "outputs": [],
   "source": [
    "def solution(progresses, speeds):\n",
    "    answer = []\n",
    "    \n",
    "    day = 0\n",
    "    while len(progresses)!=0:\n",
    "        day += 1\n",
    "        result = 0\n",
    "        while len(progresses)!= 0:\n",
    "            if(progresses[0] + (day * speeds[0]) >= 100):\n",
    "                result += 1\n",
    "                del progresses[0]\n",
    "                del speeds[0]\n",
    "            else:\n",
    "                break\n",
    "        if result != 0:\n",
    "            answer.append(result)\n",
    "        \n",
    "    return answer"
   ]
  }
 ],
 "metadata": {
  "kernelspec": {
   "display_name": "Python 3",
   "language": "python",
   "name": "python3"
  },
  "language_info": {
   "codemirror_mode": {
    "name": "ipython",
    "version": 3
   },
   "file_extension": ".py",
   "mimetype": "text/x-python",
   "name": "python",
   "nbconvert_exporter": "python",
   "pygments_lexer": "ipython3",
   "version": "3.8.6rc1"
  }
 },
 "nbformat": 4,
 "nbformat_minor": 4
}
